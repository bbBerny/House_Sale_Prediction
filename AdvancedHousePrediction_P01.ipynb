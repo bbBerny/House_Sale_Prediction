{
 "cells": [
  {
   "cell_type": "markdown",
   "id": "aaa9eab2",
   "metadata": {},
   "source": [
    "# Generating predictions using our test set\n",
    "\n",
    "Our main objective is to succesfully map our **parameter matrix** into each row of the test set, and after that inverse scaling it to succesfully create the predictions\n",
    "\n",
    "---\n",
    "\n",
    "We need:\n",
    "- X_test\n",
    "- Parameter matrix\n",
    "- Remember originally, we applied a log() function to SalePrice, so we need to apply exp()"
   ]
  },
  {
   "cell_type": "code",
   "execution_count": 7,
   "id": "7ebad1fd",
   "metadata": {},
   "outputs": [],
   "source": [
    "import numpy as np\n",
    "import pandas as pd\n",
    "import pickle\n",
    "from sklearn.preprocessing import MinMaxScaler\n",
    "\n",
    "pd.pandas.set_option('display.max_columns', None)"
   ]
  },
  {
   "cell_type": "code",
   "execution_count": 8,
   "id": "6b117dec",
   "metadata": {},
   "outputs": [
    {
     "data": {
      "application/vnd.microsoft.datawrangler.viewer.v0+json": {
       "columns": [
        {
         "name": "index",
         "rawType": "int64",
         "type": "integer"
        },
        {
         "name": "MSSubClass",
         "rawType": "float64",
         "type": "float"
        },
        {
         "name": "MSZoning",
         "rawType": "float64",
         "type": "float"
        },
        {
         "name": "Neighborhood",
         "rawType": "float64",
         "type": "float"
        },
        {
         "name": "OverallQual",
         "rawType": "float64",
         "type": "float"
        },
        {
         "name": "YearRemodAdd",
         "rawType": "float64",
         "type": "float"
        },
        {
         "name": "RoofStyle",
         "rawType": "float64",
         "type": "float"
        },
        {
         "name": "BsmtQual",
         "rawType": "float64",
         "type": "float"
        },
        {
         "name": "BsmtExposure",
         "rawType": "float64",
         "type": "float"
        },
        {
         "name": "HeatingQC",
         "rawType": "float64",
         "type": "float"
        },
        {
         "name": "CentralAir",
         "rawType": "float64",
         "type": "float"
        },
        {
         "name": "1stFlrSF",
         "rawType": "float64",
         "type": "float"
        },
        {
         "name": "GrLivArea",
         "rawType": "float64",
         "type": "float"
        },
        {
         "name": "BsmtFullBath",
         "rawType": "float64",
         "type": "float"
        },
        {
         "name": "KitchenQual",
         "rawType": "float64",
         "type": "float"
        },
        {
         "name": "Fireplaces",
         "rawType": "float64",
         "type": "float"
        },
        {
         "name": "FireplaceQu",
         "rawType": "float64",
         "type": "float"
        },
        {
         "name": "GarageType",
         "rawType": "float64",
         "type": "float"
        },
        {
         "name": "GarageFinish",
         "rawType": "float64",
         "type": "float"
        },
        {
         "name": "GarageCars",
         "rawType": "float64",
         "type": "float"
        },
        {
         "name": "PavedDrive",
         "rawType": "float64",
         "type": "float"
        },
        {
         "name": "SaleCondition",
         "rawType": "float64",
         "type": "float"
        }
       ],
       "conversionMethod": "pd.DataFrame",
       "ref": "7f9652a3-a28b-4539-b24b-3379d3a43dc6",
       "rows": [
        [
         "0",
         "0.0",
         "0.0",
         "0.3636363636363636",
         "0.4444444444444445",
         "0.819672131147541",
         "0.0",
         "0.5",
         "0.25",
         "0.5",
         "1.0",
         "0.3734378133809342",
         "0.3490805695945815",
         "0.0",
         "0.3333333333333333",
         "0.0",
         "0.2",
         "0.8",
         "0.3333333333333333",
         "0.25",
         "1.0",
         "0.75"
        ],
        [
         "1",
         "0.0",
         "0.75",
         "0.3636363636363636",
         "0.5555555555555556",
         "0.8688524590163935",
         "1.0",
         "0.5",
         "0.25",
         "0.5",
         "1.0",
         "0.522632001322878",
         "0.4885436615494622",
         "0.0",
         "0.6666666666666666",
         "0.0",
         "0.2",
         "0.8",
         "0.3333333333333333",
         "0.25",
         "1.0",
         "0.75"
        ],
        [
         "2",
         "0.2352941176470588",
         "0.75",
         "0.5909090909090909",
         "0.4444444444444445",
         "0.2131147540983606",
         "0.0",
         "0.75",
         "0.25",
         "0.75",
         "1.0",
         "0.3867175392030222",
         "0.5605458339973692",
         "0.0",
         "0.3333333333333333",
         "0.3333333333333333",
         "0.6000000000000001",
         "0.8",
         "1.0",
         "0.5",
         "1.0",
         "0.75"
        ],
        [
         "3",
         "0.2352941176470588",
         "0.75",
         "0.5909090909090909",
         "0.5555555555555556",
         "0.2131147540983606",
         "0.0",
         "0.5",
         "0.25",
         "1.0",
         "1.0",
         "0.3859010699475127",
         "0.5550747958038622",
         "0.0",
         "0.6666666666666666",
         "0.3333333333333333",
         "0.8",
         "0.8",
         "1.0",
         "0.5",
         "1.0",
         "0.75"
        ],
        [
         "4",
         "0.588235294117647",
         "0.75",
         "0.9090909090909092",
         "0.7777777777777777",
         "0.3114754098360656",
         "0.0",
         "0.75",
         "0.25",
         "1.0",
         "1.0",
         "0.5084155083946649",
         "0.4752544303275674",
         "0.0",
         "0.6666666666666666",
         "0.0",
         "0.2",
         "0.8",
         "0.6666666666666666",
         "0.5",
         "1.0",
         "0.75"
        ]
       ],
       "shape": {
        "columns": 21,
        "rows": 5
       }
      },
      "text/html": [
       "<div>\n",
       "<style scoped>\n",
       "    .dataframe tbody tr th:only-of-type {\n",
       "        vertical-align: middle;\n",
       "    }\n",
       "\n",
       "    .dataframe tbody tr th {\n",
       "        vertical-align: top;\n",
       "    }\n",
       "\n",
       "    .dataframe thead th {\n",
       "        text-align: right;\n",
       "    }\n",
       "</style>\n",
       "<table border=\"1\" class=\"dataframe\">\n",
       "  <thead>\n",
       "    <tr style=\"text-align: right;\">\n",
       "      <th></th>\n",
       "      <th>MSSubClass</th>\n",
       "      <th>MSZoning</th>\n",
       "      <th>Neighborhood</th>\n",
       "      <th>OverallQual</th>\n",
       "      <th>YearRemodAdd</th>\n",
       "      <th>RoofStyle</th>\n",
       "      <th>BsmtQual</th>\n",
       "      <th>BsmtExposure</th>\n",
       "      <th>HeatingQC</th>\n",
       "      <th>CentralAir</th>\n",
       "      <th>1stFlrSF</th>\n",
       "      <th>GrLivArea</th>\n",
       "      <th>BsmtFullBath</th>\n",
       "      <th>KitchenQual</th>\n",
       "      <th>Fireplaces</th>\n",
       "      <th>FireplaceQu</th>\n",
       "      <th>GarageType</th>\n",
       "      <th>GarageFinish</th>\n",
       "      <th>GarageCars</th>\n",
       "      <th>PavedDrive</th>\n",
       "      <th>SaleCondition</th>\n",
       "    </tr>\n",
       "  </thead>\n",
       "  <tbody>\n",
       "    <tr>\n",
       "      <th>0</th>\n",
       "      <td>0.000000</td>\n",
       "      <td>0.00</td>\n",
       "      <td>0.363636</td>\n",
       "      <td>0.444444</td>\n",
       "      <td>0.819672</td>\n",
       "      <td>0.0</td>\n",
       "      <td>0.50</td>\n",
       "      <td>0.25</td>\n",
       "      <td>0.50</td>\n",
       "      <td>1.0</td>\n",
       "      <td>0.373438</td>\n",
       "      <td>0.349081</td>\n",
       "      <td>0.0</td>\n",
       "      <td>0.333333</td>\n",
       "      <td>0.000000</td>\n",
       "      <td>0.2</td>\n",
       "      <td>0.8</td>\n",
       "      <td>0.333333</td>\n",
       "      <td>0.25</td>\n",
       "      <td>1.0</td>\n",
       "      <td>0.75</td>\n",
       "    </tr>\n",
       "    <tr>\n",
       "      <th>1</th>\n",
       "      <td>0.000000</td>\n",
       "      <td>0.75</td>\n",
       "      <td>0.363636</td>\n",
       "      <td>0.555556</td>\n",
       "      <td>0.868852</td>\n",
       "      <td>1.0</td>\n",
       "      <td>0.50</td>\n",
       "      <td>0.25</td>\n",
       "      <td>0.50</td>\n",
       "      <td>1.0</td>\n",
       "      <td>0.522632</td>\n",
       "      <td>0.488544</td>\n",
       "      <td>0.0</td>\n",
       "      <td>0.666667</td>\n",
       "      <td>0.000000</td>\n",
       "      <td>0.2</td>\n",
       "      <td>0.8</td>\n",
       "      <td>0.333333</td>\n",
       "      <td>0.25</td>\n",
       "      <td>1.0</td>\n",
       "      <td>0.75</td>\n",
       "    </tr>\n",
       "    <tr>\n",
       "      <th>2</th>\n",
       "      <td>0.235294</td>\n",
       "      <td>0.75</td>\n",
       "      <td>0.590909</td>\n",
       "      <td>0.444444</td>\n",
       "      <td>0.213115</td>\n",
       "      <td>0.0</td>\n",
       "      <td>0.75</td>\n",
       "      <td>0.25</td>\n",
       "      <td>0.75</td>\n",
       "      <td>1.0</td>\n",
       "      <td>0.386718</td>\n",
       "      <td>0.560546</td>\n",
       "      <td>0.0</td>\n",
       "      <td>0.333333</td>\n",
       "      <td>0.333333</td>\n",
       "      <td>0.6</td>\n",
       "      <td>0.8</td>\n",
       "      <td>1.000000</td>\n",
       "      <td>0.50</td>\n",
       "      <td>1.0</td>\n",
       "      <td>0.75</td>\n",
       "    </tr>\n",
       "    <tr>\n",
       "      <th>3</th>\n",
       "      <td>0.235294</td>\n",
       "      <td>0.75</td>\n",
       "      <td>0.590909</td>\n",
       "      <td>0.555556</td>\n",
       "      <td>0.213115</td>\n",
       "      <td>0.0</td>\n",
       "      <td>0.50</td>\n",
       "      <td>0.25</td>\n",
       "      <td>1.00</td>\n",
       "      <td>1.0</td>\n",
       "      <td>0.385901</td>\n",
       "      <td>0.555075</td>\n",
       "      <td>0.0</td>\n",
       "      <td>0.666667</td>\n",
       "      <td>0.333333</td>\n",
       "      <td>0.8</td>\n",
       "      <td>0.8</td>\n",
       "      <td>1.000000</td>\n",
       "      <td>0.50</td>\n",
       "      <td>1.0</td>\n",
       "      <td>0.75</td>\n",
       "    </tr>\n",
       "    <tr>\n",
       "      <th>4</th>\n",
       "      <td>0.588235</td>\n",
       "      <td>0.75</td>\n",
       "      <td>0.909091</td>\n",
       "      <td>0.777778</td>\n",
       "      <td>0.311475</td>\n",
       "      <td>0.0</td>\n",
       "      <td>0.75</td>\n",
       "      <td>0.25</td>\n",
       "      <td>1.00</td>\n",
       "      <td>1.0</td>\n",
       "      <td>0.508416</td>\n",
       "      <td>0.475254</td>\n",
       "      <td>0.0</td>\n",
       "      <td>0.666667</td>\n",
       "      <td>0.000000</td>\n",
       "      <td>0.2</td>\n",
       "      <td>0.8</td>\n",
       "      <td>0.666667</td>\n",
       "      <td>0.50</td>\n",
       "      <td>1.0</td>\n",
       "      <td>0.75</td>\n",
       "    </tr>\n",
       "  </tbody>\n",
       "</table>\n",
       "</div>"
      ],
      "text/plain": [
       "   MSSubClass  MSZoning  Neighborhood  OverallQual  YearRemodAdd  RoofStyle  \\\n",
       "0    0.000000      0.00      0.363636     0.444444      0.819672        0.0   \n",
       "1    0.000000      0.75      0.363636     0.555556      0.868852        1.0   \n",
       "2    0.235294      0.75      0.590909     0.444444      0.213115        0.0   \n",
       "3    0.235294      0.75      0.590909     0.555556      0.213115        0.0   \n",
       "4    0.588235      0.75      0.909091     0.777778      0.311475        0.0   \n",
       "\n",
       "   BsmtQual  BsmtExposure  HeatingQC  CentralAir  1stFlrSF  GrLivArea  \\\n",
       "0      0.50          0.25       0.50         1.0  0.373438   0.349081   \n",
       "1      0.50          0.25       0.50         1.0  0.522632   0.488544   \n",
       "2      0.75          0.25       0.75         1.0  0.386718   0.560546   \n",
       "3      0.50          0.25       1.00         1.0  0.385901   0.555075   \n",
       "4      0.75          0.25       1.00         1.0  0.508416   0.475254   \n",
       "\n",
       "   BsmtFullBath  KitchenQual  Fireplaces  FireplaceQu  GarageType  \\\n",
       "0           0.0     0.333333    0.000000          0.2         0.8   \n",
       "1           0.0     0.666667    0.000000          0.2         0.8   \n",
       "2           0.0     0.333333    0.333333          0.6         0.8   \n",
       "3           0.0     0.666667    0.333333          0.8         0.8   \n",
       "4           0.0     0.666667    0.000000          0.2         0.8   \n",
       "\n",
       "   GarageFinish  GarageCars  PavedDrive  SaleCondition  \n",
       "0      0.333333        0.25         1.0           0.75  \n",
       "1      0.333333        0.25         1.0           0.75  \n",
       "2      1.000000        0.50         1.0           0.75  \n",
       "3      1.000000        0.50         1.0           0.75  \n",
       "4      0.666667        0.50         1.0           0.75  "
      ]
     },
     "execution_count": 8,
     "metadata": {},
     "output_type": "execute_result"
    }
   ],
   "source": [
    "# Load test set\n",
    "\n",
    "X_test = pd.read_csv('X_test.csv')\n",
    "X_test.head()"
   ]
  },
  {
   "cell_type": "code",
   "execution_count": 9,
   "id": "ee22cbf0",
   "metadata": {},
   "outputs": [],
   "source": [
    "# Load parameter matrix\n",
    "with open('pickles/parameter_matrix.pickle', 'rb') as f:\n",
    "    parameter_matrix = pickle.load(f)"
   ]
  },
  {
   "cell_type": "code",
   "execution_count": 10,
   "id": "215e69f5",
   "metadata": {},
   "outputs": [
    {
     "name": "stdout",
     "output_type": "stream",
     "text": [
      "The training set has shape:     (1459, 21)\n",
      "The parameter matrix has shape: (22, 1)\n"
     ]
    }
   ],
   "source": [
    "print(f'The training set has shape:     {X_test.shape}')\n",
    "print(f'The parameter matrix has shape: {parameter_matrix.shape}')"
   ]
  },
  {
   "cell_type": "code",
   "execution_count": 11,
   "id": "434267e6",
   "metadata": {},
   "outputs": [
    {
     "data": {
      "text/plain": [
       "array([[1.        , 0.        , 0.        , ..., 0.25      , 1.        ,\n",
       "        0.75      ],\n",
       "       [1.        , 0.        , 0.75      , ..., 0.25      , 1.        ,\n",
       "        0.75      ],\n",
       "       [1.        , 0.23529412, 0.75      , ..., 0.5       , 1.        ,\n",
       "        0.75      ],\n",
       "       ...,\n",
       "       [1.        , 0.        , 0.75      , ..., 0.5       , 1.        ,\n",
       "        0.        ],\n",
       "       [1.        , 0.38235294, 0.75      , ..., 0.        , 1.        ,\n",
       "        0.75      ],\n",
       "       [1.        , 0.23529412, 0.75      , ..., 0.75      , 1.        ,\n",
       "        0.75      ]])"
      ]
     },
     "execution_count": 11,
     "metadata": {},
     "output_type": "execute_result"
    }
   ],
   "source": [
    "# Parameter matrix and test set have different shapes, this is because we previously added a row of ones to include the bias.\n",
    "# Let us add also a column of ones to the test set so it matches with parameter matrix\n",
    "X_array = X_test.to_numpy()\n",
    "X = np.column_stack((np.ones(X_array.shape[0]), X_array))\n",
    "X"
   ]
  },
  {
   "cell_type": "code",
   "execution_count": 12,
   "id": "24d22879",
   "metadata": {},
   "outputs": [
    {
     "data": {
      "text/plain": [
       "array([1.        , 0.        , 0.        , 0.36363636, 0.44444444,\n",
       "       0.81967213, 0.        , 0.5       , 0.25      , 0.5       ,\n",
       "       1.        , 0.37343781, 0.34908057, 0.        , 0.33333333,\n",
       "       0.        , 0.2       , 0.8       , 0.33333333, 0.25      ,\n",
       "       1.        , 0.75      ])"
      ]
     },
     "execution_count": 12,
     "metadata": {},
     "output_type": "execute_result"
    }
   ],
   "source": [
    "X[0]"
   ]
  },
  {
   "cell_type": "code",
   "execution_count": 26,
   "id": "9c3cc594",
   "metadata": {},
   "outputs": [],
   "source": [
    "# With this in mind we can go ahead and generate the predictions\n",
    "# First position in p_matrix multiplied against first column in test set, plus second position in p_matrix ... , we do this for every row in the test set\n",
    "# Finally we will return the predictions but inversely scaled\n",
    "\n",
    "# recibir un dataframe con el contenido del test set y un arreglo de numpy con los pesos o coeficientes!\n",
    "\n",
    "def generate_predictions(test_set: pd.DataFrame, parameter_matrix: np.ndarray, method: str = 'w_sum'):\n",
    "    \n",
    "    if method == 'w_sum':        \n",
    "        # --- Prepare test-set so it matches paraemter matrix\n",
    "        X_array = test_set.to_numpy()\n",
    "        X = np.column_stack((np.ones(X_array.shape[0]), X_array))\n",
    "\n",
    "        # --- Extract important info and make sure inputs are correctly formatted\n",
    "        m = X.shape[0]\n",
    "        n = X.shape[1]\n",
    "        assert (n == parameter_matrix.shape[0]) and (parameter_matrix.shape[1] == 1)\n",
    "\n",
    "        # Predictions array\n",
    "        predictions = []\n",
    "\n",
    "        # If parameter matrix has more than 1 dimension, the zip function will not work so let us flatten the array\n",
    "        parameter_matrix = parameter_matrix.flatten()\n",
    "\n",
    "        # Comencing the iterations for each row\n",
    "        for _ in range(m):\n",
    "            sum = 0\n",
    "            for value, coeff in zip(X[_], parameter_matrix):\n",
    "                #print(f'The value is: {value} and the coeff is {coeff}')\n",
    "                sum += value * coeff\n",
    "            predictions.append(sum)\n",
    "\n",
    "        # For now, this will return MinMaxScaled predictions\n",
    "        return np.exp(np.array(predictions))"
   ]
  },
  {
   "cell_type": "code",
   "execution_count": 27,
   "id": "8ee150fb",
   "metadata": {},
   "outputs": [
    {
     "data": {
      "text/plain": [
       "array([ 16674.70268624,  86510.67107569, 171145.16451702, ...,\n",
       "        27357.68387693,  15467.80567233, 418584.64282849])"
      ]
     },
     "execution_count": 27,
     "metadata": {},
     "output_type": "execute_result"
    }
   ],
   "source": [
    "preds = generate_predictions(X_test, parameter_matrix)\n",
    "preds"
   ]
  },
  {
   "cell_type": "code",
   "execution_count": 15,
   "id": "20102ce2",
   "metadata": {},
   "outputs": [
    {
     "data": {
      "text/plain": [
       "1459"
      ]
     },
     "execution_count": 15,
     "metadata": {},
     "output_type": "execute_result"
    }
   ],
   "source": [
    "preds.size"
   ]
  },
  {
   "cell_type": "code",
   "execution_count": 31,
   "id": "b0550d5a",
   "metadata": {},
   "outputs": [
    {
     "data": {
      "application/vnd.microsoft.datawrangler.viewer.v0+json": {
       "columns": [
        {
         "name": "index",
         "rawType": "int64",
         "type": "integer"
        },
        {
         "name": "Id",
         "rawType": "int32",
         "type": "integer"
        },
        {
         "name": "SalePrice",
         "rawType": "float64",
         "type": "float"
        }
       ],
       "conversionMethod": "pd.DataFrame",
       "ref": "c7a7e424-d970-4175-a64f-7fa10628a776",
       "rows": [
        [
         "0",
         "1461",
         "16674.70268624385"
        ],
        [
         "1",
         "1462",
         "86510.67107568742"
        ],
        [
         "2",
         "1463",
         "171145.16451702063"
        ],
        [
         "3",
         "1464",
         "289521.19979073224"
        ],
        [
         "4",
         "1465",
         "321570.6730116343"
        ]
       ],
       "shape": {
        "columns": 2,
        "rows": 5
       }
      },
      "text/html": [
       "<div>\n",
       "<style scoped>\n",
       "    .dataframe tbody tr th:only-of-type {\n",
       "        vertical-align: middle;\n",
       "    }\n",
       "\n",
       "    .dataframe tbody tr th {\n",
       "        vertical-align: top;\n",
       "    }\n",
       "\n",
       "    .dataframe thead th {\n",
       "        text-align: right;\n",
       "    }\n",
       "</style>\n",
       "<table border=\"1\" class=\"dataframe\">\n",
       "  <thead>\n",
       "    <tr style=\"text-align: right;\">\n",
       "      <th></th>\n",
       "      <th>Id</th>\n",
       "      <th>SalePrice</th>\n",
       "    </tr>\n",
       "  </thead>\n",
       "  <tbody>\n",
       "    <tr>\n",
       "      <th>0</th>\n",
       "      <td>1461</td>\n",
       "      <td>16674.702686</td>\n",
       "    </tr>\n",
       "    <tr>\n",
       "      <th>1</th>\n",
       "      <td>1462</td>\n",
       "      <td>86510.671076</td>\n",
       "    </tr>\n",
       "    <tr>\n",
       "      <th>2</th>\n",
       "      <td>1463</td>\n",
       "      <td>171145.164517</td>\n",
       "    </tr>\n",
       "    <tr>\n",
       "      <th>3</th>\n",
       "      <td>1464</td>\n",
       "      <td>289521.199791</td>\n",
       "    </tr>\n",
       "    <tr>\n",
       "      <th>4</th>\n",
       "      <td>1465</td>\n",
       "      <td>321570.673012</td>\n",
       "    </tr>\n",
       "  </tbody>\n",
       "</table>\n",
       "</div>"
      ],
      "text/plain": [
       "     Id      SalePrice\n",
       "0  1461   16674.702686\n",
       "1  1462   86510.671076\n",
       "2  1463  171145.164517\n",
       "3  1464  289521.199791\n",
       "4  1465  321570.673012"
      ]
     },
     "execution_count": 31,
     "metadata": {},
     "output_type": "execute_result"
    }
   ],
   "source": [
    "# Save csv with the predictions\n",
    "ids = np.array([i for i in range(1461, 1461+preds.size)], dtype=int)\n",
    "\n",
    "predictions = pd.DataFrame(np.column_stack((ids, preds)), columns=['Id','SalePrice'])\n",
    "predictions['Id'] = predictions['Id'].astype(int)\n",
    "predictions.head()"
   ]
  },
  {
   "cell_type": "code",
   "execution_count": 32,
   "id": "16199cd9",
   "metadata": {},
   "outputs": [],
   "source": [
    "predictions.to_csv('predictions/pred01.csv', index=False)"
   ]
  }
 ],
 "metadata": {
  "kernelspec": {
   "display_name": "Python 3 (ipykernel)",
   "language": "python",
   "name": "python3"
  },
  "language_info": {
   "codemirror_mode": {
    "name": "ipython",
    "version": 3
   },
   "file_extension": ".py",
   "mimetype": "text/x-python",
   "name": "python",
   "nbconvert_exporter": "python",
   "pygments_lexer": "ipython3",
   "version": "3.12.4"
  }
 },
 "nbformat": 4,
 "nbformat_minor": 5
}
