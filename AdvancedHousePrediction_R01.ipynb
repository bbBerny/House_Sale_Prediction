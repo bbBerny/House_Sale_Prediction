{
 "cells": [
  {
   "cell_type": "markdown",
   "id": "900cfe47",
   "metadata": {},
   "source": [
    "# Model training\n",
    "\n",
    "Our main goal is to properly train the model implementing linear regression using only numpy. First we will implement the baseline regression, and then we will try to implement a Lasso regression\n",
    "\n",
    "---"
   ]
  },
  {
   "cell_type": "code",
   "execution_count": 1,
   "id": "98e6f84d",
   "metadata": {},
   "outputs": [],
   "source": [
    "import pandas as pd\n",
    "import numpy as np\n",
    "\n",
    "pd.pandas.set_option('display.max_columns', None)"
   ]
  },
  {
   "cell_type": "code",
   "execution_count": 2,
   "id": "dc06743e",
   "metadata": {},
   "outputs": [],
   "source": [
    "# Load the training set\n",
    "X_train = pd.read_csv('X_train.csv')\n",
    "\n",
    "# Load the training y\n",
    "y_train = pd.read_csv('y_train.csv')\n"
   ]
  },
  {
   "cell_type": "code",
   "execution_count": 3,
   "id": "d575b47a",
   "metadata": {},
   "outputs": [],
   "source": [
    "def linear_regression(X: pd.DataFrame, y: pd.DataFrame, epoch: int = 1000, learning_rate: int = 0.02, method: str = 'baseline', algorithm: str = 'batch'):\n",
    "    # --- Convert dataframe to numpy array, we should also make possible that the function accepts an already converted array\n",
    "    X = X.to_numpy()\n",
    "    y = y.to_numpy()\n",
    "    if method == 'baseline' and algorithm == 'batch':\n",
    "        # --- Defining the batch gradient of the cost function\n",
    "        matrix_gradient = lambda X, y, m, theta: (1 / m) * X.T @ (X @ theta - y)\n",
    "\n",
    "        # --- Extract important pieces of info\n",
    "        m = X.shape[0]      # Rows\n",
    "        n = X.shape[1]      # Cols\n",
    "\n",
    "        # --- Create design matrix and parameter matrix\n",
    "        design_matrix = np.column_stack((np.ones(X.shape[0]), X))\n",
    "        parameter_matrix = np.zeros(n + 1)\n",
    "        parameter_matrix = parameter_matrix[:, np.newaxis]\n",
    "        print(parameter_matrix.shape)\n",
    "\n",
    "        for _ in range(epoch):\n",
    "            parameter_matrix = parameter_matrix - learning_rate * (1 / m) * matrix_gradient(design_matrix, y, m, parameter_matrix)\n",
    "\n",
    "        return parameter_matrix"
   ]
  },
  {
   "cell_type": "code",
   "execution_count": 4,
   "id": "e06d69a1",
   "metadata": {},
   "outputs": [
    {
     "name": "stdout",
     "output_type": "stream",
     "text": [
      "(1460, 1)\n",
      "(1460, 21)\n",
      "(22, 1)\n"
     ]
    },
    {
     "data": {
      "text/plain": [
       "array([[1.59019056],\n",
       "       [0.35075098],\n",
       "       [1.02800809],\n",
       "       [0.67989422],\n",
       "       [0.84721793],\n",
       "       [0.70657617],\n",
       "       [0.28863172],\n",
       "       [0.93362172],\n",
       "       [0.59574239],\n",
       "       [1.18191059],\n",
       "       [1.41320434],\n",
       "       [0.69137651],\n",
       "       [0.79294849],\n",
       "       [0.20537549],\n",
       "       [0.73234753],\n",
       "       [0.27351518],\n",
       "       [0.65147883],\n",
       "       [0.94258622],\n",
       "       [0.79698644],\n",
       "       [0.64123295],\n",
       "       [1.40054756],\n",
       "       [1.09150328]])"
      ]
     },
     "execution_count": 4,
     "metadata": {},
     "output_type": "execute_result"
    }
   ],
   "source": [
    "parameter_matrix = linear_regression(X_train, y_train, epoch=70000, learning_rate=0.01, method='baseline', algorithm='batch')\n",
    "parameter_matrix"
   ]
  },
  {
   "cell_type": "code",
   "execution_count": 6,
   "id": "606c2eca",
   "metadata": {},
   "outputs": [],
   "source": [
    "# We succesfully calculated our parameters, now let us encode them and work them through the test set in the next notebook\n",
    "import pickle\n",
    "\n",
    "with open('pickles/parameter_matrix.pickle', 'wb') as f:\n",
    "    pickle.dump(parameter_matrix, f)"
   ]
  }
 ],
 "metadata": {
  "kernelspec": {
   "display_name": "Python 3 (ipykernel)",
   "language": "python",
   "name": "python3"
  }
 },
 "nbformat": 4,
 "nbformat_minor": 5
}
