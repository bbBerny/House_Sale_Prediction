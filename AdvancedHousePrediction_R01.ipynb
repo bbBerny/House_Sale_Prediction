{
 "cells": [
  {
   "cell_type": "markdown",
   "id": "900cfe47",
   "metadata": {},
   "source": [
    "# Model training\n",
    "\n",
    "Our main goal is to properly train the model implementing linear regression using only numpy. First we will implement the baseline regression, and then we will try to implement a Lasso regression\n",
    "\n",
    "---"
   ]
  },
  {
   "cell_type": "code",
   "execution_count": 28,
   "id": "98e6f84d",
   "metadata": {},
   "outputs": [],
   "source": [
    "import pandas as pd\n",
    "import numpy as np\n",
    "\n",
    "pd.pandas.set_option('display.max_columns', None)"
   ]
  },
  {
   "cell_type": "code",
   "execution_count": 29,
   "id": "dc06743e",
   "metadata": {},
   "outputs": [],
   "source": [
    "# Load the training set\n",
    "X_train = pd.read_csv('X_train.csv')\n",
    "\n",
    "# Load the training y\n",
    "y_train = pd.read_csv('y_train.csv')\n"
   ]
  },
  {
   "cell_type": "code",
   "execution_count": 30,
   "id": "d575b47a",
   "metadata": {},
   "outputs": [],
   "source": [
    "def gradient_descent(X: pd.DataFrame, y: pd.DataFrame, epoch: int = 1000, learning_rate: int = 0.02, method: str = 'matrix_batch'):\n",
    "\n",
    "    if method == 'matrix_batch':\n",
    "        # --- Defining the batch gradient of the cost function\n",
    "        matrix_gradient = lambda X, y, m, theta: (1 / m) * X.T @ (X @ theta - y)\n",
    "\n",
    "        # --- Convert dataframe to numpy array, we should also make possible that the function accepts an already converted array\n",
    "        X = X.to_numpy()\n",
    "        y = y.to_numpy()\n",
    "\n",
    "        # --- Convert y from shape (m x 0) ---> (m x 1)\n",
    "        print(y.shape)\n",
    "        print(X.shape)\n",
    "\n",
    "        # --- Extract important pieces of info\n",
    "        m = X.shape[0]      # Rows\n",
    "        n = X.shape[1]      # Cols\n",
    "\n",
    "        # --- Create design matrix and parameter matrix\n",
    "        design_matrix = np.column_stack((np.ones(X.shape[0]), X))\n",
    "        parameter_matrix = np.zeros(n + 1)\n",
    "        parameter_matrix = parameter_matrix[:, np.newaxis]\n",
    "        print(parameter_matrix.shape)\n",
    "\n",
    "        for _ in range(epoch):\n",
    "            parameter_matrix = parameter_matrix - learning_rate * (1 / m) * matrix_gradient(design_matrix, y, m, parameter_matrix)\n",
    "\n",
    "        return parameter_matrix"
   ]
  },
  {
   "cell_type": "code",
   "execution_count": 55,
   "id": "e06d69a1",
   "metadata": {},
   "outputs": [
    {
     "name": "stdout",
     "output_type": "stream",
     "text": [
      "(1460, 1)\n",
      "(1460, 21)\n",
      "(22, 1)\n"
     ]
    },
    {
     "data": {
      "text/plain": [
       "array([[1.66935264],\n",
       "       [0.37135165],\n",
       "       [1.05127868],\n",
       "       [0.66005486],\n",
       "       [0.8594401 ],\n",
       "       [0.78627538],\n",
       "       [0.28080598],\n",
       "       [0.94397978],\n",
       "       [0.59678741],\n",
       "       [1.20365875],\n",
       "       [1.44394381],\n",
       "       [0.70964178],\n",
       "       [0.81704932],\n",
       "       [0.20448412],\n",
       "       [0.73093658],\n",
       "       [0.2587082 ],\n",
       "       [0.64266961],\n",
       "       [0.93788681],\n",
       "       [0.77604861],\n",
       "       [0.63934797],\n",
       "       [1.42984089],\n",
       "       [1.12480272]])"
      ]
     },
     "execution_count": 55,
     "metadata": {},
     "output_type": "execute_result"
    }
   ],
   "source": [
    "parameter_matrix = gradient_descent(X_train, y_train, epoch=100000, learning_rate=0.01)\n",
    "parameter_matrix"
   ]
  },
  {
   "cell_type": "code",
   "execution_count": 56,
   "id": "606c2eca",
   "metadata": {},
   "outputs": [],
   "source": [
    "# We succesfully calculated our parameters, now let us encode them and work them through the test set in the next notebook\n",
    "import pickle\n",
    "\n",
    "with open('pickles/parameter_matrix.pickle', 'wb') as f:\n",
    "    pickle.dump(parameter_matrix, f)"
   ]
  }
 ],
 "metadata": {
  "kernelspec": {
   "display_name": "Python 3 (ipykernel)",
   "language": "python",
   "name": "python3"
  },
  "language_info": {
   "codemirror_mode": {
    "name": "ipython",
    "version": 3
   },
   "file_extension": ".py",
   "mimetype": "text/x-python",
   "name": "python",
   "nbconvert_exporter": "python",
   "pygments_lexer": "ipython3",
   "version": "3.12.4"
  }
 },
 "nbformat": 4,
 "nbformat_minor": 5
}
